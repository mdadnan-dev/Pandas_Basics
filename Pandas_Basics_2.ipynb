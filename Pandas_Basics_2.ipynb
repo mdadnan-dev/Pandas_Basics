{
 "cells": [
  {
   "cell_type": "markdown",
   "id": "49940291",
   "metadata": {},
   "source": [
    "## Lesson 2"
   ]
  },
  {
   "cell_type": "markdown",
   "id": "7640527b",
   "metadata": {},
   "source": [
    "--> Pandas Index Object  \n",
    "--> Some SET Opereations using Pandas  \n",
    "--> Series in Dictionary  \n",
    "--> loc and iloc  \n",
    "--> DataFrame using Dictionary  \n",
    "--> Modifying DataFrame  \n",
    "--> DataFrame as 2D array  "
   ]
  },
  {
   "cell_type": "code",
   "execution_count": 2,
   "id": "ef091098",
   "metadata": {},
   "outputs": [],
   "source": [
    "import pandas as pd"
   ]
  },
  {
   "cell_type": "markdown",
   "id": "448436a9",
   "metadata": {},
   "source": [
    "### Pandas Index Object "
   ]
  },
  {
   "cell_type": "code",
   "execution_count": 3,
   "id": "a683b2b1",
   "metadata": {},
   "outputs": [
    {
     "name": "stdout",
     "output_type": "stream",
     "text": [
      "Index([2, 4, 6, 8, 10], dtype='int64')\n"
     ]
    }
   ],
   "source": [
    "ind = pd.Index([2,4,6,8,10])  # We are creating a Pandas Index Object and storing it inside the variable ind\n",
    "\n",
    "print(ind)"
   ]
  },
  {
   "cell_type": "code",
   "execution_count": 7,
   "id": "8243fffc",
   "metadata": {},
   "outputs": [
    {
     "name": "stdout",
     "output_type": "stream",
     "text": [
      "2 \n",
      "\n",
      "4 \n",
      "\n",
      "6 \n",
      "\n",
      "Index([2, 6, 10], dtype='int64')\n"
     ]
    }
   ],
   "source": [
    "print(ind[0],'\\n')   # This gives the value present at 0th index -> 2\n",
    "\n",
    "print(ind[1],'\\n')   # This gives the value present at 1st index -> 4\n",
    "\n",
    "print(ind[2],'\\n')   # This gives the value present at 2nd index -> 6\n",
    "\n",
    "print(ind[::2])      # This gives the alternate values present in the ind variable [stepcount = 2]   "
   ]
  },
  {
   "cell_type": "code",
   "execution_count": 6,
   "id": "b4e32249",
   "metadata": {},
   "outputs": [
    {
     "name": "stdout",
     "output_type": "stream",
     "text": [
      "(5,) \n",
      "\n",
      "5 \n",
      "\n",
      "1 \n",
      "\n",
      "int64 \n",
      "\n"
     ]
    }
   ],
   "source": [
    "print(ind.shape,'\\n')   # This gives the shape of the Pandas Index Object stored in ind -> (5,)  [it has 5 columns]\n",
    "\n",
    "print(ind.size,'\\n')    # This gives the size of the Pandas Index Object stored in ind ->  5 [Total elements in the variable]\n",
    "\n",
    "print(ind.ndim,'\\n')    # This gives the dimensions of the Pandas Index Object stored in ind -> 1D\n",
    "\n",
    "print(ind.dtype,'\\n')   # This gives the data type of the Pandas Index Object stored in ind -> int64  [integer 64 bits]"
   ]
  },
  {
   "cell_type": "markdown",
   "id": "85e85c46",
   "metadata": {},
   "source": [
    "### Some SET Opereations using Pandas "
   ]
  },
  {
   "cell_type": "code",
   "execution_count": 11,
   "id": "3f77d55f",
   "metadata": {},
   "outputs": [
    {
     "name": "stdout",
     "output_type": "stream",
     "text": [
      "Index([1, 2, 4, 8, 10], dtype='int64') \n",
      "\n",
      "Index([1, 2, 5, 9, 10], dtype='int64')\n"
     ]
    }
   ],
   "source": [
    "a1 = pd.Index([1,2,4,8,10])\n",
    "\n",
    "a2 = pd.Index([1,2,5,9,10])\n",
    "\n",
    "\n",
    "print(a1,'\\n')\n",
    "\n",
    "print(a2)"
   ]
  },
  {
   "cell_type": "code",
   "execution_count": 14,
   "id": "73162ae2",
   "metadata": {},
   "outputs": [
    {
     "name": "stdout",
     "output_type": "stream",
     "text": [
      "Index([1, 2, 10], dtype='int64')\n",
      "Index([1, 2, 4, 5, 8, 9, 10], dtype='int64')\n",
      "Index([4, 5, 8, 9], dtype='int64')\n"
     ]
    }
   ],
   "source": [
    "# The '&' symbol states that intersection operation should be performed \n",
    "print (a1.intersection(a2))\n",
    "\n",
    "\n",
    "# The '|' symbol states that union operation should be performed \n",
    "print(a1.union(a2))\n",
    "\n",
    "# The '^' symbol states that symmetric difference should be performed \n",
    "print(a1.symmetric_difference(a2))"
   ]
  },
  {
   "cell_type": "markdown",
   "id": "2bae7c5f",
   "metadata": {},
   "source": [
    "### Series in Dictionary"
   ]
  },
  {
   "cell_type": "code",
   "execution_count": 15,
   "id": "0d67a9fd",
   "metadata": {},
   "outputs": [
    {
     "name": "stdout",
     "output_type": "stream",
     "text": [
      "a    0.2\n",
      "b    0.3\n",
      "c    0.4\n",
      "d    0.5\n",
      "e    0.6\n",
      "dtype: float64\n"
     ]
    }
   ],
   "source": [
    "data = pd.Series([0.20, 0.30, 0.40, 0.50, 0.60],\n",
    "                index = ['a','b','c','d','e'])\n",
    "\n",
    "print(data)"
   ]
  },
  {
   "cell_type": "code",
   "execution_count": 17,
   "id": "cb3b582f",
   "metadata": {},
   "outputs": [
    {
     "name": "stdout",
     "output_type": "stream",
     "text": [
      "0.2 \n",
      "\n",
      "0.6 \n",
      "\n",
      "True \n",
      "\n",
      "False \n",
      "\n",
      "Index(['a', 'b', 'c', 'd', 'e'], dtype='object') \n",
      "\n",
      "[('a', 0.2), ('b', 0.3), ('c', 0.4), ('d', 0.5), ('e', 0.6)]\n"
     ]
    }
   ],
   "source": [
    "print(data['a'],'\\n')\n",
    "\n",
    "\n",
    "print(data['e'],'\\n')\n",
    "\n",
    "\n",
    "print('e' in data,'\\n')\n",
    "\n",
    "\n",
    "print('f' in data,'\\n')\n",
    "\n",
    "\n",
    "print(data.keys(),'\\n')\n",
    "\n",
    "\n",
    "print(list(data.items()))"
   ]
  },
  {
   "cell_type": "code",
   "execution_count": 18,
   "id": "2338e866",
   "metadata": {},
   "outputs": [
    {
     "name": "stdout",
     "output_type": "stream",
     "text": [
      "a    0.2\n",
      "b    0.3\n",
      "c    0.4\n",
      "d    0.5\n",
      "e    0.6\n",
      "dtype: float64 \n",
      "\n",
      "a    0.2\n",
      "b    0.3\n",
      "c    0.4\n",
      "d    0.5\n",
      "e    0.6\n",
      "f    0.7\n",
      "dtype: float64\n"
     ]
    }
   ],
   "source": [
    "print(data,'\\n')\n",
    "\n",
    "data['f'] = 0.70\n",
    "\n",
    "print(data)"
   ]
  },
  {
   "cell_type": "code",
   "execution_count": 20,
   "id": "ad40f820",
   "metadata": {},
   "outputs": [
    {
     "name": "stdout",
     "output_type": "stream",
     "text": [
      "a    0.2\n",
      "b    0.3\n",
      "c    0.4\n",
      "dtype: float64 \n",
      "\n",
      "a    0.2\n",
      "b    0.3\n",
      "c    0.4\n",
      "dtype: float64 \n",
      "\n",
      "c    0.4\n",
      "d    0.5\n",
      "e    0.6\n",
      "dtype: float64 \n",
      "\n",
      "a    0.2\n",
      "e    0.6\n",
      "dtype: float64\n"
     ]
    }
   ],
   "source": [
    "print(data['a':'c'],'\\n')   # In this slicing the value at the index 'c' is included\n",
    "\n",
    "\n",
    "print(data[0:3],'\\n')    # In this slicing the value at 3rd index is excluded \n",
    "\n",
    "\n",
    "print(data[(data>0.3) & (data<0.7)],'\\n')    # This is masking [it gives the values which are between 0.4 and 0.6]\n",
    "\n",
    "\n",
    "print(data[['a','e']])    # This is fancy indexing  [We are accessing multiple individual values using indexing]"
   ]
  },
  {
   "cell_type": "markdown",
   "id": "bcb45af2",
   "metadata": {},
   "source": [
    "### loc and iloc "
   ]
  },
  {
   "cell_type": "code",
   "execution_count": 21,
   "id": "511d3fa1",
   "metadata": {},
   "outputs": [
    {
     "name": "stdout",
     "output_type": "stream",
     "text": [
      "1    a\n",
      "3    b\n",
      "5    c\n",
      "dtype: object\n"
     ]
    }
   ],
   "source": [
    "data = pd.Series(['a','b','c'],\n",
    "                index = [1,3,5])\n",
    "\n",
    "print(data)"
   ]
  },
  {
   "cell_type": "code",
   "execution_count": 23,
   "id": "3d86f8d8",
   "metadata": {},
   "outputs": [
    {
     "name": "stdout",
     "output_type": "stream",
     "text": [
      "a \n",
      "\n",
      "b \n",
      "\n"
     ]
    }
   ],
   "source": [
    "print(data[1],'\\n')\n",
    "\n",
    "print(data[3],'\\n')"
   ]
  },
  {
   "cell_type": "code",
   "execution_count": 27,
   "id": "0299170e",
   "metadata": {},
   "outputs": [
    {
     "name": "stdout",
     "output_type": "stream",
     "text": [
      "a \n",
      "\n",
      "b \n",
      "\n",
      "1    a\n",
      "3    b\n",
      "dtype: object \n",
      "\n"
     ]
    }
   ],
   "source": [
    "# loc   -->  It is a label-based indexing\n",
    "\n",
    "print(data.loc[1],'\\n')\n",
    "\n",
    "print(data.loc[3],'\\n')\n",
    "\n",
    "print(data.loc[1:3],'\\n')"
   ]
  },
  {
   "cell_type": "code",
   "execution_count": 28,
   "id": "6b04ae14",
   "metadata": {},
   "outputs": [
    {
     "name": "stdout",
     "output_type": "stream",
     "text": [
      "a \n",
      "\n",
      "b \n",
      "\n",
      "1    a\n",
      "3    b\n",
      "dtype: object\n"
     ]
    }
   ],
   "source": [
    "# iloc --> It is a position-based indexing\n",
    "\n",
    "print(data.iloc[0],'\\n')\n",
    "\n",
    "print(data.iloc[1],'\\n')\n",
    "\n",
    "print(data.iloc[0:2])"
   ]
  },
  {
   "cell_type": "markdown",
   "id": "21b596c2",
   "metadata": {},
   "source": [
    "### DataFrame using Dictionary"
   ]
  },
  {
   "cell_type": "code",
   "execution_count": 1,
   "id": "58d02b7a",
   "metadata": {},
   "outputs": [],
   "source": [
    "population_dict = {\n",
    "    'Hyderabad':38317000,\n",
    "    'Uttar Pradesh':238875000,\n",
    "    'Mumbai':127684000,\n",
    "    'Banglore':68256000\n",
    "}                                 # Creating a dictionary of population\n",
    " \n",
    "area_dict = {\n",
    "    'Uttar Pradesh':240928,\n",
    "    'Hyderabad':112077,\n",
    "    'Banglore':191791,\n",
    "    'Mumbai':307713\n",
    "}                                # Creating a dictionary of area \n"
   ]
  },
  {
   "cell_type": "code",
   "execution_count": 2,
   "id": "2cc1f432",
   "metadata": {},
   "outputs": [],
   "source": [
    "import pandas as pd \n",
    "\n",
    "population = pd.Series(population_dict)          # Converting the dictionary into a Pandas Series Object\n",
    "\n",
    "area = pd.Series(area_dict)                      # Converting the dictionary into a Pandas Series Object "
   ]
  },
  {
   "cell_type": "code",
   "execution_count": 3,
   "id": "02447e1c",
   "metadata": {},
   "outputs": [
    {
     "name": "stdout",
     "output_type": "stream",
     "text": [
      "                 area  population\n",
      "Banglore       191791    68256000\n",
      "Hyderabad      112077    38317000\n",
      "Mumbai         307713   127684000\n",
      "Uttar Pradesh  240928   238875000\n"
     ]
    }
   ],
   "source": [
    "data = pd.DataFrame({\n",
    "    'area':area,\n",
    "    'population':population\n",
    "})                                 # Creating a Pandas DataFrame Object \n",
    "\n",
    "print(data)"
   ]
  },
  {
   "cell_type": "code",
   "execution_count": 4,
   "id": "6ebb3b86",
   "metadata": {},
   "outputs": [
    {
     "name": "stdout",
     "output_type": "stream",
     "text": [
      "Banglore         191791\n",
      "Hyderabad        112077\n",
      "Mumbai           307713\n",
      "Uttar Pradesh    240928\n",
      "Name: area, dtype: int64 \n",
      "\n",
      "Banglore          68256000\n",
      "Hyderabad         38317000\n",
      "Mumbai           127684000\n",
      "Uttar Pradesh    238875000\n",
      "Name: population, dtype: int64 \n",
      "\n",
      "Banglore         191791\n",
      "Hyderabad        112077\n",
      "Mumbai           307713\n",
      "Uttar Pradesh    240928\n",
      "Name: area, dtype: int64 \n",
      "\n",
      "Banglore          68256000\n",
      "Hyderabad         38317000\n",
      "Mumbai           127684000\n",
      "Uttar Pradesh    238875000\n",
      "Name: population, dtype: int64\n"
     ]
    }
   ],
   "source": [
    "print(data['area'],'\\n')               # Accessing the area column [Dictionary-key style]\n",
    "\n",
    "\n",
    "print(data['population'],'\\n')       # Accessing the population column [Dictionary-key style]\n",
    "\n",
    "\n",
    "print(data.area,'\\n')           # Accessing the area column [Attribute-style access]\n",
    "\n",
    "\n",
    "print(data.population)          # Accessing the population column [Attribute-style access]"
   ]
  },
  {
   "cell_type": "code",
   "execution_count": 5,
   "id": "d53c2bc8",
   "metadata": {},
   "outputs": [
    {
     "data": {
      "text/plain": [
       "True"
      ]
     },
     "execution_count": 5,
     "metadata": {},
     "output_type": "execute_result"
    }
   ],
   "source": [
    "# Lets check if data.area is equal to data['area']\n",
    "\n",
    "data.area is data['area']"
   ]
  },
  {
   "cell_type": "code",
   "execution_count": 6,
   "id": "b9dbd3ef",
   "metadata": {},
   "outputs": [
    {
     "data": {
      "text/plain": [
       "True"
      ]
     },
     "execution_count": 6,
     "metadata": {},
     "output_type": "execute_result"
    }
   ],
   "source": [
    "# Lets check if data.population is equal to data['population']\n",
    "\n",
    "data.population is data['population']"
   ]
  },
  {
   "cell_type": "markdown",
   "id": "6e108133",
   "metadata": {},
   "source": [
    "### Modifying DataFrame"
   ]
  },
  {
   "cell_type": "code",
   "execution_count": 7,
   "id": "97d2c6b0",
   "metadata": {},
   "outputs": [
    {
     "name": "stdout",
     "output_type": "stream",
     "text": [
      "                 area  population     density\n",
      "Banglore       191791    68256000  355.887398\n",
      "Hyderabad      112077    38317000  341.881028\n",
      "Mumbai         307713   127684000  414.945095\n",
      "Uttar Pradesh  240928   238875000  991.478782\n"
     ]
    }
   ],
   "source": [
    "data['density'] = data['population'] / data['area']\n",
    "\n",
    "print(data)"
   ]
  },
  {
   "cell_type": "markdown",
   "id": "4744ab70",
   "metadata": {},
   "source": [
    "### DataFrame as 2D array"
   ]
  },
  {
   "cell_type": "code",
   "execution_count": 15,
   "id": "44a0a39c",
   "metadata": {},
   "outputs": [
    {
     "data": {
      "text/plain": [
       "array([[1.91791000e+05, 6.82560000e+07, 3.55887398e+02],\n",
       "       [1.12077000e+05, 3.83170000e+07, 3.41881028e+02],\n",
       "       [3.07713000e+05, 1.27684000e+08, 4.14945095e+02],\n",
       "       [2.40928000e+05, 2.38875000e+08, 9.91478782e+02]])"
      ]
     },
     "execution_count": 15,
     "metadata": {},
     "output_type": "execute_result"
    }
   ],
   "source": [
    "data.values    # This returns the underlying data of a DataFrame as a Numpy array"
   ]
  },
  {
   "cell_type": "code",
   "execution_count": 10,
   "id": "f1fc6309",
   "metadata": {},
   "outputs": [
    {
     "data": {
      "text/html": [
       "<div>\n",
       "<style scoped>\n",
       "    .dataframe tbody tr th:only-of-type {\n",
       "        vertical-align: middle;\n",
       "    }\n",
       "\n",
       "    .dataframe tbody tr th {\n",
       "        vertical-align: top;\n",
       "    }\n",
       "\n",
       "    .dataframe thead th {\n",
       "        text-align: right;\n",
       "    }\n",
       "</style>\n",
       "<table border=\"1\" class=\"dataframe\">\n",
       "  <thead>\n",
       "    <tr style=\"text-align: right;\">\n",
       "      <th></th>\n",
       "      <th>area</th>\n",
       "      <th>population</th>\n",
       "      <th>density</th>\n",
       "    </tr>\n",
       "  </thead>\n",
       "  <tbody>\n",
       "    <tr>\n",
       "      <th>Banglore</th>\n",
       "      <td>191791</td>\n",
       "      <td>68256000</td>\n",
       "      <td>355.887398</td>\n",
       "    </tr>\n",
       "    <tr>\n",
       "      <th>Hyderabad</th>\n",
       "      <td>112077</td>\n",
       "      <td>38317000</td>\n",
       "      <td>341.881028</td>\n",
       "    </tr>\n",
       "    <tr>\n",
       "      <th>Mumbai</th>\n",
       "      <td>307713</td>\n",
       "      <td>127684000</td>\n",
       "      <td>414.945095</td>\n",
       "    </tr>\n",
       "    <tr>\n",
       "      <th>Uttar Pradesh</th>\n",
       "      <td>240928</td>\n",
       "      <td>238875000</td>\n",
       "      <td>991.478782</td>\n",
       "    </tr>\n",
       "  </tbody>\n",
       "</table>\n",
       "</div>"
      ],
      "text/plain": [
       "                 area  population     density\n",
       "Banglore       191791    68256000  355.887398\n",
       "Hyderabad      112077    38317000  341.881028\n",
       "Mumbai         307713   127684000  414.945095\n",
       "Uttar Pradesh  240928   238875000  991.478782"
      ]
     },
     "execution_count": 10,
     "metadata": {},
     "output_type": "execute_result"
    }
   ],
   "source": [
    "data   # This gives our data "
   ]
  },
  {
   "cell_type": "code",
   "execution_count": 16,
   "id": "7a1ae1dc",
   "metadata": {},
   "outputs": [
    {
     "data": {
      "text/html": [
       "<div>\n",
       "<style scoped>\n",
       "    .dataframe tbody tr th:only-of-type {\n",
       "        vertical-align: middle;\n",
       "    }\n",
       "\n",
       "    .dataframe tbody tr th {\n",
       "        vertical-align: top;\n",
       "    }\n",
       "\n",
       "    .dataframe thead th {\n",
       "        text-align: right;\n",
       "    }\n",
       "</style>\n",
       "<table border=\"1\" class=\"dataframe\">\n",
       "  <thead>\n",
       "    <tr style=\"text-align: right;\">\n",
       "      <th></th>\n",
       "      <th>Banglore</th>\n",
       "      <th>Hyderabad</th>\n",
       "      <th>Mumbai</th>\n",
       "      <th>Uttar Pradesh</th>\n",
       "    </tr>\n",
       "  </thead>\n",
       "  <tbody>\n",
       "    <tr>\n",
       "      <th>area</th>\n",
       "      <td>1.917910e+05</td>\n",
       "      <td>1.120770e+05</td>\n",
       "      <td>3.077130e+05</td>\n",
       "      <td>2.409280e+05</td>\n",
       "    </tr>\n",
       "    <tr>\n",
       "      <th>population</th>\n",
       "      <td>6.825600e+07</td>\n",
       "      <td>3.831700e+07</td>\n",
       "      <td>1.276840e+08</td>\n",
       "      <td>2.388750e+08</td>\n",
       "    </tr>\n",
       "    <tr>\n",
       "      <th>density</th>\n",
       "      <td>3.558874e+02</td>\n",
       "      <td>3.418810e+02</td>\n",
       "      <td>4.149451e+02</td>\n",
       "      <td>9.914788e+02</td>\n",
       "    </tr>\n",
       "  </tbody>\n",
       "</table>\n",
       "</div>"
      ],
      "text/plain": [
       "                Banglore     Hyderabad        Mumbai  Uttar Pradesh\n",
       "area        1.917910e+05  1.120770e+05  3.077130e+05   2.409280e+05\n",
       "population  6.825600e+07  3.831700e+07  1.276840e+08   2.388750e+08\n",
       "density     3.558874e+02  3.418810e+02  4.149451e+02   9.914788e+02"
      ]
     },
     "execution_count": 16,
     "metadata": {},
     "output_type": "execute_result"
    }
   ],
   "source": [
    "data.T  # This swaps the rows and columns of the DataFrame"
   ]
  },
  {
   "cell_type": "markdown",
   "id": "ccac73d9",
   "metadata": {},
   "source": [
    "### Accessing values in 2D DataFrame"
   ]
  },
  {
   "cell_type": "code",
   "execution_count": 14,
   "id": "c646f6df",
   "metadata": {},
   "outputs": [
    {
     "name": "stdout",
     "output_type": "stream",
     "text": [
      "             area\n",
      "Banglore   191791\n",
      "Hyderabad  112077 \n",
      "\n",
      "area             307713.0\n",
      "population    127684000.0\n",
      "Name: Mumbai, dtype: float64\n"
     ]
    }
   ],
   "source": [
    "print(data.iloc[:2,:1],'\\n')   # This gives the ouput of values present \n",
    "\n",
    "print(data.iloc[2,:2],)"
   ]
  },
  {
   "cell_type": "code",
   "execution_count": 20,
   "id": "aaec3196",
   "metadata": {},
   "outputs": [
    {
     "name": "stdout",
     "output_type": "stream",
     "text": [
      "Banglore     191791\n",
      "Hyderabad    112077\n",
      "Mumbai       307713\n",
      "Name: area, dtype: int64 \n",
      "\n",
      "             area  population     density\n",
      "Banglore   191791    68256000  355.887398\n",
      "Hyderabad  112077    38317000  341.881028\n"
     ]
    }
   ],
   "source": [
    "print(data.loc[:'Mumbai','area'],'\\n')   # The rows that are before Mumbai [inclusive] are included  and the area column is included\n",
    "\n",
    "print(data.loc[:'Hyderabad',:])   # Here all the rows before Hyderabad [inclusive] are included  and all the columns are also included"
   ]
  },
  {
   "cell_type": "code",
   "execution_count": 21,
   "id": "5ab8b7e9",
   "metadata": {},
   "outputs": [
    {
     "data": {
      "text/html": [
       "<div>\n",
       "<style scoped>\n",
       "    .dataframe tbody tr th:only-of-type {\n",
       "        vertical-align: middle;\n",
       "    }\n",
       "\n",
       "    .dataframe tbody tr th {\n",
       "        vertical-align: top;\n",
       "    }\n",
       "\n",
       "    .dataframe thead th {\n",
       "        text-align: right;\n",
       "    }\n",
       "</style>\n",
       "<table border=\"1\" class=\"dataframe\">\n",
       "  <thead>\n",
       "    <tr style=\"text-align: right;\">\n",
       "      <th></th>\n",
       "      <th>area</th>\n",
       "      <th>population</th>\n",
       "      <th>density</th>\n",
       "    </tr>\n",
       "  </thead>\n",
       "  <tbody>\n",
       "    <tr>\n",
       "      <th>Banglore</th>\n",
       "      <td>191791</td>\n",
       "      <td>68256000</td>\n",
       "      <td>355.887398</td>\n",
       "    </tr>\n",
       "    <tr>\n",
       "      <th>Hyderabad</th>\n",
       "      <td>112077</td>\n",
       "      <td>38317000</td>\n",
       "      <td>341.881028</td>\n",
       "    </tr>\n",
       "    <tr>\n",
       "      <th>Mumbai</th>\n",
       "      <td>307713</td>\n",
       "      <td>127684000</td>\n",
       "      <td>414.945095</td>\n",
       "    </tr>\n",
       "    <tr>\n",
       "      <th>Uttar Pradesh</th>\n",
       "      <td>240928</td>\n",
       "      <td>238875000</td>\n",
       "      <td>991.478782</td>\n",
       "    </tr>\n",
       "  </tbody>\n",
       "</table>\n",
       "</div>"
      ],
      "text/plain": [
       "                 area  population     density\n",
       "Banglore       191791    68256000  355.887398\n",
       "Hyderabad      112077    38317000  341.881028\n",
       "Mumbai         307713   127684000  414.945095\n",
       "Uttar Pradesh  240928   238875000  991.478782"
      ]
     },
     "execution_count": 21,
     "metadata": {},
     "output_type": "execute_result"
    }
   ],
   "source": [
    "data"
   ]
  },
  {
   "cell_type": "code",
   "execution_count": 23,
   "id": "0a10c479",
   "metadata": {},
   "outputs": [
    {
     "data": {
      "text/html": [
       "<div>\n",
       "<style scoped>\n",
       "    .dataframe tbody tr th:only-of-type {\n",
       "        vertical-align: middle;\n",
       "    }\n",
       "\n",
       "    .dataframe tbody tr th {\n",
       "        vertical-align: top;\n",
       "    }\n",
       "\n",
       "    .dataframe thead th {\n",
       "        text-align: right;\n",
       "    }\n",
       "</style>\n",
       "<table border=\"1\" class=\"dataframe\">\n",
       "  <thead>\n",
       "    <tr style=\"text-align: right;\">\n",
       "      <th></th>\n",
       "      <th>area</th>\n",
       "      <th>population</th>\n",
       "      <th>density</th>\n",
       "    </tr>\n",
       "  </thead>\n",
       "  <tbody>\n",
       "    <tr>\n",
       "      <th>Banglore</th>\n",
       "      <td>191791</td>\n",
       "      <td>68256000</td>\n",
       "      <td>355.887398</td>\n",
       "    </tr>\n",
       "    <tr>\n",
       "      <th>Mumbai</th>\n",
       "      <td>307713</td>\n",
       "      <td>127684000</td>\n",
       "      <td>414.945095</td>\n",
       "    </tr>\n",
       "    <tr>\n",
       "      <th>Uttar Pradesh</th>\n",
       "      <td>240928</td>\n",
       "      <td>238875000</td>\n",
       "      <td>991.478782</td>\n",
       "    </tr>\n",
       "  </tbody>\n",
       "</table>\n",
       "</div>"
      ],
      "text/plain": [
       "                 area  population     density\n",
       "Banglore       191791    68256000  355.887398\n",
       "Mumbai         307713   127684000  414.945095\n",
       "Uttar Pradesh  240928   238875000  991.478782"
      ]
     },
     "execution_count": 23,
     "metadata": {},
     "output_type": "execute_result"
    }
   ],
   "source": [
    "data.loc[data.density>350,['area','population','density']]\n"
   ]
  },
  {
   "cell_type": "code",
   "execution_count": 26,
   "id": "39dcbfbe",
   "metadata": {},
   "outputs": [
    {
     "data": {
      "text/html": [
       "<div>\n",
       "<style scoped>\n",
       "    .dataframe tbody tr th:only-of-type {\n",
       "        vertical-align: middle;\n",
       "    }\n",
       "\n",
       "    .dataframe tbody tr th {\n",
       "        vertical-align: top;\n",
       "    }\n",
       "\n",
       "    .dataframe thead th {\n",
       "        text-align: right;\n",
       "    }\n",
       "</style>\n",
       "<table border=\"1\" class=\"dataframe\">\n",
       "  <thead>\n",
       "    <tr style=\"text-align: right;\">\n",
       "      <th></th>\n",
       "      <th>area</th>\n",
       "      <th>population</th>\n",
       "      <th>density</th>\n",
       "    </tr>\n",
       "  </thead>\n",
       "  <tbody>\n",
       "    <tr>\n",
       "      <th>Banglore</th>\n",
       "      <td>200340</td>\n",
       "      <td>68256000</td>\n",
       "      <td>355.887398</td>\n",
       "    </tr>\n",
       "    <tr>\n",
       "      <th>Hyderabad</th>\n",
       "      <td>112077</td>\n",
       "      <td>38317000</td>\n",
       "      <td>341.881028</td>\n",
       "    </tr>\n",
       "    <tr>\n",
       "      <th>Mumbai</th>\n",
       "      <td>307713</td>\n",
       "      <td>127684000</td>\n",
       "      <td>414.945095</td>\n",
       "    </tr>\n",
       "    <tr>\n",
       "      <th>Uttar Pradesh</th>\n",
       "      <td>240928</td>\n",
       "      <td>238875000</td>\n",
       "      <td>991.478782</td>\n",
       "    </tr>\n",
       "  </tbody>\n",
       "</table>\n",
       "</div>"
      ],
      "text/plain": [
       "                 area  population     density\n",
       "Banglore       200340    68256000  355.887398\n",
       "Hyderabad      112077    38317000  341.881028\n",
       "Mumbai         307713   127684000  414.945095\n",
       "Uttar Pradesh  240928   238875000  991.478782"
      ]
     },
     "execution_count": 26,
     "metadata": {},
     "output_type": "execute_result"
    }
   ],
   "source": [
    "data.iloc[0,0] = 200340\n",
    "\n",
    "data"
   ]
  },
  {
   "cell_type": "code",
   "execution_count": null,
   "id": "48b1fea3",
   "metadata": {},
   "outputs": [],
   "source": []
  }
 ],
 "metadata": {
  "kernelspec": {
   "display_name": "Python 3 (ipykernel)",
   "language": "python",
   "name": "python3"
  },
  "language_info": {
   "codemirror_mode": {
    "name": "ipython",
    "version": 3
   },
   "file_extension": ".py",
   "mimetype": "text/x-python",
   "name": "python",
   "nbconvert_exporter": "python",
   "pygments_lexer": "ipython3",
   "version": "3.11.5"
  }
 },
 "nbformat": 4,
 "nbformat_minor": 5
}
