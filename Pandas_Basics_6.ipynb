{
 "cells": [
  {
   "cell_type": "markdown",
   "id": "5d3779af",
   "metadata": {},
   "source": [
    "## Lesson 6"
   ]
  },
  {
   "cell_type": "markdown",
   "id": "72e12778",
   "metadata": {},
   "source": [
    "--> Index_Alignment  \n",
    "--> Index Alignment  \n",
    "--> Universal Functions  "
   ]
  },
  {
   "cell_type": "markdown",
   "id": "93122c17",
   "metadata": {},
   "source": [
    "### Index_Alignment"
   ]
  },
  {
   "cell_type": "code",
   "execution_count": 4,
   "id": "b53a105d",
   "metadata": {},
   "outputs": [],
   "source": [
    "import pandas as pd\n",
    "\n",
    "area = pd.Series({\n",
    "    'Hyderabad':38317000,\n",
    "    'Uttar Pradesh':238875000,\n",
    "    'Mumbai':127684000\n",
    "},name='area')\n",
    "\n",
    "population = pd.Series({\n",
    "    'Uttar Pradesh':240928,\n",
    "    'Hyderabad':112077,\n",
    "    'Banglore':191791\n",
    "},name='population')"
   ]
  },
  {
   "cell_type": "code",
   "execution_count": 5,
   "id": "47a9644d",
   "metadata": {},
   "outputs": [
    {
     "data": {
      "text/plain": [
       "Banglore              NaN\n",
       "Hyderabad        0.002925\n",
       "Mumbai                NaN\n",
       "Uttar Pradesh    0.001009\n",
       "dtype: float64"
      ]
     },
     "execution_count": 5,
     "metadata": {},
     "output_type": "execute_result"
    }
   ],
   "source": [
    "population/area   # We are Getting some NaN values[Not a Number] because the values do not have an entry for it \n",
    "                    # Example - Banglore we provided value for banglore in population Series object but not in area series object"
   ]
  },
  {
   "cell_type": "code",
   "execution_count": 8,
   "id": "c914f5ad",
   "metadata": {},
   "outputs": [
    {
     "data": {
      "text/plain": [
       "Index(['Hyderabad', 'Uttar Pradesh'], dtype='object')"
      ]
     },
     "execution_count": 8,
     "metadata": {},
     "output_type": "execute_result"
    }
   ],
   "source": [
    "area.index.intersection(population.index)  # This gives the indexes which are common in both the Series Obejcts "
   ]
  },
  {
   "cell_type": "code",
   "execution_count": 30,
   "id": "7b7dba09",
   "metadata": {},
   "outputs": [
    {
     "name": "stdout",
     "output_type": "stream",
     "text": [
      "0    2\n",
      "1    3\n",
      "2    4\n",
      "3    5\n",
      "4    6\n",
      "5    7\n",
      "dtype: int64 \n",
      "\n",
      "1    1\n",
      "2    2\n",
      "3    3\n",
      "4    4\n",
      "dtype: int64 \n",
      "\n",
      "0     NaN\n",
      "1     4.0\n",
      "2     6.0\n",
      "3     8.0\n",
      "4    10.0\n",
      "5     NaN\n",
      "dtype: float64\n"
     ]
    }
   ],
   "source": [
    "a = pd.Series([2,3,4,5,6,7], index =[0,1,2,3,4,5])\n",
    "b = pd.Series([1,2,3,4], index=[1,2,3,4])\n",
    "print(a,'\\n')\n",
    "print(b,'\\n')\n",
    "print(a+b)   # Here the first and last values are NaN \n",
    "            # The reason is because \n",
    "            # index 0 is present in 'a' and not in 'b'\n",
    "            # index 5 is present in 'a' and not in 'b'"
   ]
  },
  {
   "cell_type": "markdown",
   "id": "10a5a491",
   "metadata": {},
   "source": [
    "### Index Alignment "
   ]
  },
  {
   "cell_type": "code",
   "execution_count": 17,
   "id": "1540df6c",
   "metadata": {},
   "outputs": [
    {
     "name": "stdout",
     "output_type": "stream",
     "text": [
      "   a  b\n",
      "0  6  2\n",
      "1  5  7 \n",
      "\n",
      "    b   c   a\n",
      "0  25  43  48\n",
      "1  46  22  28\n",
      "2  48  39  45\n"
     ]
    }
   ],
   "source": [
    "import pandas as pd\n",
    "import numpy as np\n",
    "\n",
    "A = pd.DataFrame(np.random.randint(0,11,(2,2)),columns=['a','b'])\n",
    "\n",
    "print(A,'\\n')\n",
    "\n",
    "B = pd.DataFrame(np.random.randint(20,50,(3,3)),columns=['b','c','a'])\n",
    "\n",
    "print(B)"
   ]
  },
  {
   "cell_type": "code",
   "execution_count": 18,
   "id": "1fda6bbb",
   "metadata": {},
   "outputs": [
    {
     "name": "stdout",
     "output_type": "stream",
     "text": [
      "      a     b   c\n",
      "0  54.0  27.0 NaN\n",
      "1  33.0  53.0 NaN\n",
      "2   NaN   NaN NaN\n"
     ]
    }
   ],
   "source": [
    "print(A+B)  "
   ]
  },
  {
   "cell_type": "markdown",
   "id": "f1605b75",
   "metadata": {},
   "source": [
    "### Universal Functions"
   ]
  },
  {
   "cell_type": "code",
   "execution_count": 19,
   "id": "1ddbf5af",
   "metadata": {},
   "outputs": [
    {
     "name": "stdout",
     "output_type": "stream",
     "text": [
      "[[ 6  7  3  6]\n",
      " [ 2  8  6  7]\n",
      " [10 11  5  5]]\n"
     ]
    }
   ],
   "source": [
    "A = np.random.randint(0,12,(3,4))\n",
    "print(A)"
   ]
  },
  {
   "cell_type": "code",
   "execution_count": 20,
   "id": "5693e9b4",
   "metadata": {},
   "outputs": [
    {
     "data": {
      "text/plain": [
       "array([[ 0,  0,  0,  0],\n",
       "       [-4,  1,  3,  1],\n",
       "       [ 4,  4,  2, -1]])"
      ]
     },
     "execution_count": 20,
     "metadata": {},
     "output_type": "execute_result"
    }
   ],
   "source": [
    "A-A[0]"
   ]
  },
  {
   "cell_type": "code",
   "execution_count": 21,
   "id": "5c339132",
   "metadata": {},
   "outputs": [
    {
     "data": {
      "text/html": [
       "<div>\n",
       "<style scoped>\n",
       "    .dataframe tbody tr th:only-of-type {\n",
       "        vertical-align: middle;\n",
       "    }\n",
       "\n",
       "    .dataframe tbody tr th {\n",
       "        vertical-align: top;\n",
       "    }\n",
       "\n",
       "    .dataframe thead th {\n",
       "        text-align: right;\n",
       "    }\n",
       "</style>\n",
       "<table border=\"1\" class=\"dataframe\">\n",
       "  <thead>\n",
       "    <tr style=\"text-align: right;\">\n",
       "      <th></th>\n",
       "      <th>B</th>\n",
       "      <th>A</th>\n",
       "      <th>C</th>\n",
       "      <th>D</th>\n",
       "    </tr>\n",
       "  </thead>\n",
       "  <tbody>\n",
       "    <tr>\n",
       "      <th>0</th>\n",
       "      <td>6</td>\n",
       "      <td>7</td>\n",
       "      <td>3</td>\n",
       "      <td>6</td>\n",
       "    </tr>\n",
       "    <tr>\n",
       "      <th>1</th>\n",
       "      <td>2</td>\n",
       "      <td>8</td>\n",
       "      <td>6</td>\n",
       "      <td>7</td>\n",
       "    </tr>\n",
       "    <tr>\n",
       "      <th>2</th>\n",
       "      <td>10</td>\n",
       "      <td>11</td>\n",
       "      <td>5</td>\n",
       "      <td>5</td>\n",
       "    </tr>\n",
       "  </tbody>\n",
       "</table>\n",
       "</div>"
      ],
      "text/plain": [
       "    B   A  C  D\n",
       "0   6   7  3  6\n",
       "1   2   8  6  7\n",
       "2  10  11  5  5"
      ]
     },
     "execution_count": 21,
     "metadata": {},
     "output_type": "execute_result"
    }
   ],
   "source": [
    "df = pd.DataFrame(A,columns=list(\"BACD\"))\n",
    "df"
   ]
  },
  {
   "cell_type": "code",
   "execution_count": 24,
   "id": "cb031551",
   "metadata": {},
   "outputs": [
    {
     "data": {
      "text/html": [
       "<div>\n",
       "<style scoped>\n",
       "    .dataframe tbody tr th:only-of-type {\n",
       "        vertical-align: middle;\n",
       "    }\n",
       "\n",
       "    .dataframe tbody tr th {\n",
       "        vertical-align: top;\n",
       "    }\n",
       "\n",
       "    .dataframe thead th {\n",
       "        text-align: right;\n",
       "    }\n",
       "</style>\n",
       "<table border=\"1\" class=\"dataframe\">\n",
       "  <thead>\n",
       "    <tr style=\"text-align: right;\">\n",
       "      <th></th>\n",
       "      <th>B</th>\n",
       "      <th>A</th>\n",
       "      <th>C</th>\n",
       "      <th>D</th>\n",
       "    </tr>\n",
       "  </thead>\n",
       "  <tbody>\n",
       "    <tr>\n",
       "      <th>0</th>\n",
       "      <td>0</td>\n",
       "      <td>0</td>\n",
       "      <td>0</td>\n",
       "      <td>0</td>\n",
       "    </tr>\n",
       "    <tr>\n",
       "      <th>1</th>\n",
       "      <td>-4</td>\n",
       "      <td>1</td>\n",
       "      <td>3</td>\n",
       "      <td>1</td>\n",
       "    </tr>\n",
       "    <tr>\n",
       "      <th>2</th>\n",
       "      <td>4</td>\n",
       "      <td>4</td>\n",
       "      <td>2</td>\n",
       "      <td>-1</td>\n",
       "    </tr>\n",
       "  </tbody>\n",
       "</table>\n",
       "</div>"
      ],
      "text/plain": [
       "   B  A  C  D\n",
       "0  0  0  0  0\n",
       "1 -4  1  3  1\n",
       "2  4  4  2 -1"
      ]
     },
     "execution_count": 24,
     "metadata": {},
     "output_type": "execute_result"
    }
   ],
   "source": [
    "df-df.iloc[0]"
   ]
  },
  {
   "cell_type": "code",
   "execution_count": 27,
   "id": "e8e90b2d",
   "metadata": {},
   "outputs": [
    {
     "name": "stdout",
     "output_type": "stream",
     "text": [
      "    B   A  C  D\n",
      "0   6   7  3  6\n",
      "1   2   8  6  7\n",
      "2  10  11  5  5 \n",
      "\n",
      "   B  A  C  D\n",
      "0  3  4  0  3\n",
      "1 -4  2  0  1\n",
      "2  5  6  0  0\n"
     ]
    }
   ],
   "source": [
    "print(df,'\\n')\n",
    "\n",
    "print(df.subtract(df['C'],axis=0))"
   ]
  },
  {
   "cell_type": "code",
   "execution_count": 28,
   "id": "7a063016",
   "metadata": {},
   "outputs": [
    {
     "data": {
      "text/plain": [
       "B    6\n",
       "C    3\n",
       "Name: 0, dtype: int32"
      ]
     },
     "execution_count": 28,
     "metadata": {},
     "output_type": "execute_result"
    }
   ],
   "source": [
    "halfrow = df.iloc[0,::2]\n",
    "halfrow"
   ]
  },
  {
   "cell_type": "code",
   "execution_count": 29,
   "id": "31eb4d0c",
   "metadata": {},
   "outputs": [
    {
     "data": {
      "text/html": [
       "<div>\n",
       "<style scoped>\n",
       "    .dataframe tbody tr th:only-of-type {\n",
       "        vertical-align: middle;\n",
       "    }\n",
       "\n",
       "    .dataframe tbody tr th {\n",
       "        vertical-align: top;\n",
       "    }\n",
       "\n",
       "    .dataframe thead th {\n",
       "        text-align: right;\n",
       "    }\n",
       "</style>\n",
       "<table border=\"1\" class=\"dataframe\">\n",
       "  <thead>\n",
       "    <tr style=\"text-align: right;\">\n",
       "      <th></th>\n",
       "      <th>A</th>\n",
       "      <th>B</th>\n",
       "      <th>C</th>\n",
       "      <th>D</th>\n",
       "    </tr>\n",
       "  </thead>\n",
       "  <tbody>\n",
       "    <tr>\n",
       "      <th>0</th>\n",
       "      <td>NaN</td>\n",
       "      <td>0.0</td>\n",
       "      <td>0.0</td>\n",
       "      <td>NaN</td>\n",
       "    </tr>\n",
       "    <tr>\n",
       "      <th>1</th>\n",
       "      <td>NaN</td>\n",
       "      <td>-4.0</td>\n",
       "      <td>3.0</td>\n",
       "      <td>NaN</td>\n",
       "    </tr>\n",
       "    <tr>\n",
       "      <th>2</th>\n",
       "      <td>NaN</td>\n",
       "      <td>4.0</td>\n",
       "      <td>2.0</td>\n",
       "      <td>NaN</td>\n",
       "    </tr>\n",
       "  </tbody>\n",
       "</table>\n",
       "</div>"
      ],
      "text/plain": [
       "    A    B    C   D\n",
       "0 NaN  0.0  0.0 NaN\n",
       "1 NaN -4.0  3.0 NaN\n",
       "2 NaN  4.0  2.0 NaN"
      ]
     },
     "execution_count": 29,
     "metadata": {},
     "output_type": "execute_result"
    }
   ],
   "source": [
    "df-halfrow"
   ]
  },
  {
   "cell_type": "code",
   "execution_count": null,
   "id": "c99edf52",
   "metadata": {},
   "outputs": [],
   "source": []
  },
  {
   "cell_type": "code",
   "execution_count": null,
   "id": "561ff47a",
   "metadata": {},
   "outputs": [],
   "source": []
  },
  {
   "cell_type": "code",
   "execution_count": null,
   "id": "c590013e",
   "metadata": {},
   "outputs": [],
   "source": []
  }
 ],
 "metadata": {
  "kernelspec": {
   "display_name": "Python 3 (ipykernel)",
   "language": "python",
   "name": "python3"
  },
  "language_info": {
   "codemirror_mode": {
    "name": "ipython",
    "version": 3
   },
   "file_extension": ".py",
   "mimetype": "text/x-python",
   "name": "python",
   "nbconvert_exporter": "python",
   "pygments_lexer": "ipython3",
   "version": "3.11.5"
  }
 },
 "nbformat": 4,
 "nbformat_minor": 5
}
