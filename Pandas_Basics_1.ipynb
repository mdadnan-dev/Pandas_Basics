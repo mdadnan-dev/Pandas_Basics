{
 "cells": [
  {
   "cell_type": "markdown",
   "id": "497b5157",
   "metadata": {},
   "source": [
    "### Lesson 1"
   ]
  },
  {
   "cell_type": "markdown",
   "id": "a0814657",
   "metadata": {},
   "source": [
    "--> Pandas  \n",
    "--> Series  \n",
    "--> Explicit Indexing using Series  \n",
    "--> Series with Dictionary  \n",
    "--> Constructing Series Objects  \n",
    "--> DataFrame Object  \n",
    "--> Constructing DataFrames using 2D arrays  "
   ]
  },
  {
   "cell_type": "markdown",
   "id": "9662d1ae",
   "metadata": {},
   "source": [
    "### Pandas "
   ]
  },
  {
   "cell_type": "code",
   "execution_count": 1,
   "id": "67f9ca34",
   "metadata": {},
   "outputs": [],
   "source": [
    "import pandas as pd  # We are importing the pandas library with an alias of pd "
   ]
  },
  {
   "cell_type": "markdown",
   "id": "9ef486da",
   "metadata": {},
   "source": [
    "### Series "
   ]
  },
  {
   "cell_type": "code",
   "execution_count": 2,
   "id": "518e8995",
   "metadata": {},
   "outputs": [
    {
     "name": "stdout",
     "output_type": "stream",
     "text": [
      "0    0.25\n",
      "1    0.50\n",
      "2    0.75\n",
      "3    1.00\n",
      "dtype: float64\n"
     ]
    }
   ],
   "source": [
    "# Series is a 1D array that contains indexed data \n",
    "\n",
    "data = pd.Series([0.25,0.50,0.75,1])  # in the given array we can see the output in the form of indexed data \n",
    "                                       \n",
    "print(data)"
   ]
  },
  {
   "cell_type": "code",
   "execution_count": 4,
   "id": "a2ad7411",
   "metadata": {},
   "outputs": [
    {
     "name": "stdout",
     "output_type": "stream",
     "text": [
      "[0.25 0.5  0.75 1.  ] \n",
      "\n",
      "RangeIndex(start=0, stop=4, step=1)\n"
     ]
    }
   ],
   "source": [
    "print(data.values,'\\n')   # This gives all the values present in the data variable \n",
    "                        \n",
    "\n",
    "print(data.index)      # This gives the starting index and the ending index in the array"
   ]
  },
  {
   "cell_type": "code",
   "execution_count": 6,
   "id": "b31c47b7",
   "metadata": {},
   "outputs": [
    {
     "name": "stdout",
     "output_type": "stream",
     "text": [
      "0.5 \n",
      "\n",
      "1    0.50\n",
      "2    0.75\n",
      "dtype: float64\n"
     ]
    }
   ],
   "source": [
    "print(data[1],'\\n')  # Gives the first value in the data variable\n",
    "\n",
    "\n",
    "print(data[1:3])   # Gives the 1st and 2nd values present in the data variable "
   ]
  },
  {
   "cell_type": "markdown",
   "id": "dfdcc5ab",
   "metadata": {},
   "source": [
    "### Explicit Indexing using Series"
   ]
  },
  {
   "cell_type": "code",
   "execution_count": 10,
   "id": "40516c2a",
   "metadata": {},
   "outputs": [
    {
     "name": "stdout",
     "output_type": "stream",
     "text": [
      "a    0.25\n",
      "b    0.50\n",
      "c    0.75\n",
      "d    1.00\n",
      "e    1.25\n",
      "f    1.50\n",
      "dtype: float64\n"
     ]
    }
   ],
   "source": [
    "data = pd.Series([0.25,0.50,0.75,1,1.25,1.50])\n",
    "print(a)"
   ]
  },
  {
   "cell_type": "code",
   "execution_count": 11,
   "id": "3d965e82",
   "metadata": {},
   "outputs": [
    {
     "name": "stdout",
     "output_type": "stream",
     "text": [
      "a    0.25\n",
      "b    0.50\n",
      "c    0.75\n",
      "d    1.00\n",
      "e    1.25\n",
      "f    1.50\n",
      "dtype: float64\n"
     ]
    }
   ],
   "source": [
    "data = pd.Series([0.25,0.50,0.75,1,1.25,1.50],\n",
    "             index = ['a','b','c','d','e','f'])     # By using index we can add our own index values \n",
    "\n",
    "print(data)"
   ]
  },
  {
   "cell_type": "code",
   "execution_count": 15,
   "id": "71a0607a",
   "metadata": {},
   "outputs": [
    {
     "name": "stdout",
     "output_type": "stream",
     "text": [
      "0.25 \n",
      "\n",
      "0.75\n"
     ]
    }
   ],
   "source": [
    "print(data['a'],'\\n')  # This gives the value of data that is present at index 'a' -> 0.25\n",
    "\n",
    "print(data['c'])  # This gives the value of the data that is present at index 'c' -> 0.75"
   ]
  },
  {
   "cell_type": "code",
   "execution_count": 16,
   "id": "9593d3e9",
   "metadata": {},
   "outputs": [
    {
     "name": "stdout",
     "output_type": "stream",
     "text": [
      "4     0.25\n",
      "b     0.50\n",
      "6     0.75\n",
      "d     1.00\n",
      "10    1.25\n",
      "f     1.50\n",
      "dtype: float64\n"
     ]
    }
   ],
   "source": [
    "data = pd.Series([0.25,0.50,0.75,1,1.25,1.50],\n",
    "             index = [4,'b',6,'d',10,'f'])  # We can even modify the values as we want \n",
    "\n",
    "print(data)"
   ]
  },
  {
   "cell_type": "code",
   "execution_count": 17,
   "id": "31c9377a",
   "metadata": {},
   "outputs": [
    {
     "name": "stdout",
     "output_type": "stream",
     "text": [
      "0.25 \n",
      "\n",
      "1.5\n"
     ]
    }
   ],
   "source": [
    "print(data[4],'\\n')  # This gives the value of data that is present at index 4 -> 0.25\n",
    "\n",
    "print(data['f'])  # This gives the value of the data present at index 'f' -> 1.50"
   ]
  },
  {
   "cell_type": "markdown",
   "id": "48b151d3",
   "metadata": {},
   "source": [
    "### Series with Dictionary"
   ]
  },
  {
   "cell_type": "code",
   "execution_count": 18,
   "id": "0bcd3b7f",
   "metadata": {},
   "outputs": [
    {
     "name": "stdout",
     "output_type": "stream",
     "text": [
      "Hyderabad     1399229\n",
      "Banglore       983333\n",
      "Delhi         8700000\n",
      "Mumbai       21000000\n",
      "dtype: int64\n"
     ]
    }
   ],
   "source": [
    "population_dict = {\n",
    "    'Hyderabad' : 1399229,\n",
    "    'Banglore': 983333,\n",
    "    'Delhi' : 8700000,\n",
    "    'Mumbai' : 21000000\n",
    "}                                            # We created a dictionary of population for different states in India\n",
    "\n",
    "population = pd.Series(population_dict)     # We converted the dictionary to a pandas series\n",
    "\n",
    "print(population)"
   ]
  },
  {
   "cell_type": "code",
   "execution_count": 21,
   "id": "d6573e97",
   "metadata": {},
   "outputs": [
    {
     "name": "stdout",
     "output_type": "stream",
     "text": [
      "Hyderabad     1399229\n",
      "Banglore       983333\n",
      "Delhi         8700000\n",
      "Mumbai       21000000\n",
      "dtype: int64 \n",
      "\n",
      "Population of Delhi- 8700000 \n",
      "\n",
      "Hyderabad    1399229\n",
      "Banglore      983333\n",
      "Delhi        8700000\n",
      "dtype: int64\n"
     ]
    }
   ],
   "source": [
    "print(population,'\\n')  # Gives the values present in the variable population\n",
    "\n",
    "print('Population of Delhi-',population['Delhi'],'\\n')  # Gives the population of Delhi only [Indexing]\n",
    "\n",
    "print(population['Hyderabad':'Delhi'])   # Gives the values from Hyderabad to Delhi inclusive [Slicing]"
   ]
  },
  {
   "cell_type": "markdown",
   "id": "f4507757",
   "metadata": {},
   "source": [
    "### Constructing Series Objects"
   ]
  },
  {
   "cell_type": "code",
   "execution_count": 22,
   "id": "7384e616",
   "metadata": {},
   "outputs": [
    {
     "name": "stdout",
     "output_type": "stream",
     "text": [
      "0    2\n",
      "1    3\n",
      "2    4\n",
      "dtype: int64\n"
     ]
    }
   ],
   "source": [
    "data = pd.Series([2,3,4])   # This stores the values 2,3,4\n",
    "\n",
    "print(data)"
   ]
  },
  {
   "cell_type": "code",
   "execution_count": 23,
   "id": "6051017d",
   "metadata": {},
   "outputs": [
    {
     "name": "stdout",
     "output_type": "stream",
     "text": [
      "1    100\n",
      "2    100\n",
      "3    100\n",
      "4    100\n",
      "5    100\n",
      "dtype: int64\n"
     ]
    }
   ],
   "source": [
    "data = pd.Series(100,index=[1,2,3,4,5]) # This stores 5 values of 100 with different index\n",
    "\n",
    "print(data)"
   ]
  },
  {
   "cell_type": "code",
   "execution_count": 25,
   "id": "3c4c9e49",
   "metadata": {},
   "outputs": [
    {
     "name": "stdout",
     "output_type": "stream",
     "text": [
      "1    a\n",
      "3    d\n",
      "2    c\n",
      "dtype: object\n"
     ]
    }
   ],
   "source": [
    "data = pd.Series({1:'a',3:'d',2:'c'})  # This stores the dictionary values \n",
    "\n",
    "print(data)"
   ]
  },
  {
   "cell_type": "code",
   "execution_count": 27,
   "id": "a6c87105",
   "metadata": {},
   "outputs": [
    {
     "name": "stdout",
     "output_type": "stream",
     "text": [
      "2    b\n",
      "3    c\n",
      "dtype: object\n"
     ]
    }
   ],
   "source": [
    "data = pd.Series({1:'a',3:'c',2:'b'},index=[2,3])  # This gives the values of explicit indexes \n",
    "\n",
    "print(data)"
   ]
  },
  {
   "cell_type": "markdown",
   "id": "674ef374",
   "metadata": {},
   "source": [
    "### DataFrame Object"
   ]
  },
  {
   "cell_type": "code",
   "execution_count": 31,
   "id": "b5b58f6b",
   "metadata": {},
   "outputs": [
    {
     "name": "stdout",
     "output_type": "stream",
     "text": [
      "Rajasthan        342239\n",
      "Hyderabad        112077\n",
      "Mumbai           307713\n",
      "Uttar Pradesh    240928\n",
      "Banglore         191791\n",
      "dtype: int64\n"
     ]
    }
   ],
   "source": [
    "area_dictionary = {\n",
    "    'Rajasthan':342239,\n",
    "    'Hyderabad':112077,\n",
    "    'Mumbai':307713,\n",
    "    'Uttar Pradesh': 240928,\n",
    "    'Banglore':191791,\n",
    "}                                # We are creating a dictionary of areas in different states \n",
    "\n",
    "area = pd.Series(area_dictionary)      # We are converting the area_dictionary to a Pandas Series object and storing it inside a variable area  \n",
    "print(area)"
   ]
  },
  {
   "cell_type": "code",
   "execution_count": 32,
   "id": "f6a95509",
   "metadata": {},
   "outputs": [
    {
     "name": "stdout",
     "output_type": "stream",
     "text": [
      "               population      area\n",
      "Banglore         983333.0  191791.0\n",
      "Delhi           8700000.0       NaN\n",
      "Hyderabad       1399229.0  112077.0\n",
      "Mumbai         21000000.0  307713.0\n",
      "Rajasthan             NaN  342239.0\n",
      "Uttar Pradesh         NaN  240928.0\n"
     ]
    }
   ],
   "source": [
    "states = pd.DataFrame({'population':population,\n",
    "                      'area':area})    # As we have already created a population and area in Pandas Series Object \n",
    "                                       # We are now converting it into a DataFrame and storing it inside states variable\n",
    "print(states)"
   ]
  },
  {
   "cell_type": "code",
   "execution_count": 33,
   "id": "84675ec1",
   "metadata": {},
   "outputs": [
    {
     "name": "stdout",
     "output_type": "stream",
     "text": [
      "Index(['Banglore', 'Delhi', 'Hyderabad', 'Mumbai', 'Rajasthan',\n",
      "       'Uttar Pradesh'],\n",
      "      dtype='object')\n"
     ]
    }
   ],
   "source": [
    "print(states.index)   # states.index provides all the index values of states"
   ]
  },
  {
   "cell_type": "code",
   "execution_count": 34,
   "id": "3694a8f0",
   "metadata": {},
   "outputs": [
    {
     "name": "stdout",
     "output_type": "stream",
     "text": [
      "Index(['population', 'area'], dtype='object')\n"
     ]
    }
   ],
   "source": [
    "print(states.columns)  # states.columns provides all the column values present in the states "
   ]
  },
  {
   "cell_type": "code",
   "execution_count": 35,
   "id": "7c713aa5",
   "metadata": {},
   "outputs": [
    {
     "name": "stdout",
     "output_type": "stream",
     "text": [
      "Banglore         191791.0\n",
      "Delhi                 NaN\n",
      "Hyderabad        112077.0\n",
      "Mumbai           307713.0\n",
      "Rajasthan        342239.0\n",
      "Uttar Pradesh    240928.0\n",
      "Name: area, dtype: float64\n"
     ]
    }
   ],
   "source": [
    "print(states['area'])  # states['area'] provides all the index values and the area column only"
   ]
  },
  {
   "cell_type": "code",
   "execution_count": 36,
   "id": "6935b7f1",
   "metadata": {},
   "outputs": [
    {
     "name": "stdout",
     "output_type": "stream",
     "text": [
      "Banglore           983333.0\n",
      "Delhi             8700000.0\n",
      "Hyderabad         1399229.0\n",
      "Mumbai           21000000.0\n",
      "Rajasthan               NaN\n",
      "Uttar Pradesh           NaN\n",
      "Name: population, dtype: float64\n"
     ]
    }
   ],
   "source": [
    "print(states['population']) # states['population'] provides all the index values and the population column only "
   ]
  },
  {
   "cell_type": "code",
   "execution_count": 42,
   "id": "6006dd8b",
   "metadata": {},
   "outputs": [
    {
     "name": "stdout",
     "output_type": "stream",
     "text": [
      "Portugal    Ronaldo\n",
      "Egypt         Salah\n",
      "Brazil       Neymar\n",
      "England      Rooney\n",
      "Spain        Morata\n",
      "dtype: object\n"
     ]
    }
   ],
   "source": [
    "strikers_dict = {\n",
    "    'Portugal': 'Ronaldo',\n",
    "    'Egypt':'Salah',\n",
    "    'Brazil':'Neymar',\n",
    "    'England':'Rooney',\n",
    "    'Spain':'Morata'\n",
    "}                                 # We created a Strikers dictionary \n",
    "\n",
    "strikers = pd.Series(strikers_dict)  # Over here we convert the dictionary into a Pandas Series and store it in the variable strikers \n",
    "print(strikers)"
   ]
  },
  {
   "cell_type": "code",
   "execution_count": 44,
   "id": "3c74ac46",
   "metadata": {},
   "outputs": [
    {
     "name": "stdout",
     "output_type": "stream",
     "text": [
      "Portugal    900\n",
      "Egypt       300\n",
      "Brazil      400\n",
      "England     366\n",
      "Spain       200\n",
      "dtype: int64\n"
     ]
    }
   ],
   "source": [
    "goals_dict={\n",
    "    'Portugal': 900 ,\n",
    "    'Egypt':300,\n",
    "    'Brazil':400,\n",
    "    'England':366,\n",
    "    'Spain':200\n",
    "}                           # Here we are making a dictionary of goals \n",
    "\n",
    "goals = pd.Series(goals_dict)  # Over here we are converting the dictionary to Pandas Series and storing it in the variable goals\n",
    "print(goals)"
   ]
  },
  {
   "cell_type": "code",
   "execution_count": 46,
   "id": "d94142ab",
   "metadata": {},
   "outputs": [
    {
     "name": "stdout",
     "output_type": "stream",
     "text": [
      "          Players  Total Goals\n",
      "Portugal  Ronaldo          900\n",
      "Egypt       Salah          300\n",
      "Brazil     Neymar          400\n",
      "England    Rooney          366\n",
      "Spain      Morata          200\n"
     ]
    }
   ],
   "source": [
    "Football_dict = {\n",
    "    'Players':strikers,\n",
    "    'Total Goals': goals\n",
    "}   # We are combining the dictionary of values that has already been created \n",
    "\n",
    "Football = pd.DataFrame(Football_dict)  # We are converting the combined dictionary into a Pandas DataFrame Object and storing it in the variable Football\n",
    "print(Football)"
   ]
  },
  {
   "cell_type": "markdown",
   "id": "53b9dde3",
   "metadata": {},
   "source": [
    "### Constructing DataFrames using 2D arrays"
   ]
  },
  {
   "cell_type": "code",
   "execution_count": 52,
   "id": "c58857c5",
   "metadata": {},
   "outputs": [
    {
     "name": "stdout",
     "output_type": "stream",
     "text": [
      "    0   1\n",
      "a  33  33\n",
      "b  33  33\n",
      "c  33  33\n"
     ]
    }
   ],
   "source": [
    "import pandas as pd\n",
    "import numpy as np\n",
    "\n",
    "data = pd.DataFrame(np.random.randint(1,100),\n",
    "                   columns =[0,1],\n",
    "                   index = ['a','b','c'])      # In here we are using the \n",
    "                                               # np.random.randint(1,100) --> which generates a random number between 1-100\n",
    "                                                # columns = [0,1]  -> With this we are writing the column names to be 0 and 1 \n",
    "                                                # index = ['a','b','c']  -> With this we are writing the index values to be a,b and c\n",
    "\n",
    "print(data)"
   ]
  },
  {
   "cell_type": "code",
   "execution_count": null,
   "id": "a64e44dd",
   "metadata": {},
   "outputs": [],
   "source": []
  }
 ],
 "metadata": {
  "kernelspec": {
   "display_name": "Python 3 (ipykernel)",
   "language": "python",
   "name": "python3"
  },
  "language_info": {
   "codemirror_mode": {
    "name": "ipython",
    "version": 3
   },
   "file_extension": ".py",
   "mimetype": "text/x-python",
   "name": "python",
   "nbconvert_exporter": "python",
   "pygments_lexer": "ipython3",
   "version": "3.11.5"
  }
 },
 "nbformat": 4,
 "nbformat_minor": 5
}
